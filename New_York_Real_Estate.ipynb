{
 "cells": [
  {
   "cell_type": "code",
   "execution_count": 1,
   "metadata": {},
   "outputs": [
    {
     "name": "stdout",
     "output_type": "stream",
     "text": [
      "3 number of pages were found\n"
     ]
    }
   ],
   "source": [
    "import requests as reg\n",
    "from bs4 import BeautifulSoup as soup\n",
    "\n",
    "url_reg=reg.get(\"https://www.pythonhow.com/real-estate/rock-springs-wy/LCWYROCKSPRINGS/\")\n",
    "Content=url_reg.content\n",
    "\n",
    "soup_page = soup(Content,\"html.parser\")\n",
    "\n",
    "number_of_pages=soup_page.findAll(\"a\",{\"class\":\"Page\"})[-1].text\n",
    "print(number_of_pages,\"number of pages were found\")"
   ]
  },
  {
   "cell_type": "code",
   "execution_count": 2,
   "metadata": {},
   "outputs": [],
   "source": [
    "dataset=[]\n",
    "base_url=\"http://www.pythonhow.com/real-estate/rock-springs-wy/LCWYROCKSPRINGS/t=0&s=\"\n",
    "for page in range(0,int(number_of_pages)*10,10):\n",
    "    url_reg=reg.get(base_url+str(page)+\".html\")\n",
    "    Content=url_reg.content\n",
    "    soup_page=soup(Content,\"html.parser\")\n",
    "    places=soup_page.find_all(\"div\",{\"class\":\"propertyRow\"})\n",
    "    for item in places:\n",
    "        data={}\n",
    "        data[\"Address\"]=item.find_all(\"span\",{\"class\",\"propAddressCollapse\"})[0].text\n",
    "        try:\n",
    "            data[\"Locality\"]=item.find_all(\"span\",{\"class\",\"propAddressCollapse\"})[1].text\n",
    "        except:\n",
    "            data[\"Locality\"]=None\n",
    "        data[\"Price\"]=item.find(\"h4\",{\"class\",\"propPrice\"}).text.replace(\"\\n\",\"\").replace(\" \",\"\")\n",
    "        try:\n",
    "            data[\"Beds\"]=item.find(\"span\",{\"class\",\"infoBed\"}).find(\"b\").text\n",
    "        except:\n",
    "            data[\"Beds\"]=None\n",
    "    \n",
    "        try:\n",
    "            data[\"Area\"]=item.find(\"span\",{\"class\",\"infoSqFt\"}).find(\"b\").text\n",
    "        except:\n",
    "            data[\"Area\"]=None\n",
    "    \n",
    "        try:\n",
    "            data[\"Full Baths\"]=item.find(\"span\",{\"class\",\"infoValueFullBath\"}).find(\"b\").text\n",
    "        except:\n",
    "            data[\"Full Baths\"]=None\n",
    "\n",
    "        try:\n",
    "            data[\"Half Baths\"]=item.find(\"span\",{\"class\",\"infoValueHalfBath\"}).find(\"b\").text\n",
    "        except:\n",
    "            data[\"Half Baths\"]=None\n",
    "        for column_group in item.find_all(\"div\",{\"class\":\"columnGroup\"}):\n",
    "            for feature_group, feature_name in zip(column_group.find_all(\"span\",{\"class\":\"featureGroup\"}),column_group.find_all(\"span\",{\"class\":\"featureName\"})):\n",
    "                if \"Lot Size\" in feature_group.text:\n",
    "                    data[\"Lot Size\"]=feature_name.text\n",
    "        dataset.append(data)"
   ]
  },
  {
   "cell_type": "code",
   "execution_count": 3,
   "metadata": {},
   "outputs": [],
   "source": [
    "import pandas\n",
    "dataframe=pandas.DataFrame(dataset)\n",
    "dataframe.to_csv(\"Output.csv\")"
   ]
  },
  {
   "cell_type": "code",
   "execution_count": 4,
   "metadata": {},
   "outputs": [
    {
     "data": {
      "text/html": [
       "<div>\n",
       "<style scoped>\n",
       "    .dataframe tbody tr th:only-of-type {\n",
       "        vertical-align: middle;\n",
       "    }\n",
       "\n",
       "    .dataframe tbody tr th {\n",
       "        vertical-align: top;\n",
       "    }\n",
       "\n",
       "    .dataframe thead th {\n",
       "        text-align: right;\n",
       "    }\n",
       "</style>\n",
       "<table border=\"1\" class=\"dataframe\">\n",
       "  <thead>\n",
       "    <tr style=\"text-align: right;\">\n",
       "      <th></th>\n",
       "      <th>Address</th>\n",
       "      <th>Area</th>\n",
       "      <th>Beds</th>\n",
       "      <th>Full Baths</th>\n",
       "      <th>Half Baths</th>\n",
       "      <th>Locality</th>\n",
       "      <th>Lot Size</th>\n",
       "      <th>Price</th>\n",
       "    </tr>\n",
       "  </thead>\n",
       "  <tbody>\n",
       "    <tr>\n",
       "      <th>0</th>\n",
       "      <td>0 Gateway</td>\n",
       "      <td>None</td>\n",
       "      <td>None</td>\n",
       "      <td>None</td>\n",
       "      <td>None</td>\n",
       "      <td>Rock Springs, WY 82901</td>\n",
       "      <td>NaN</td>\n",
       "      <td>$725,000</td>\n",
       "    </tr>\n",
       "    <tr>\n",
       "      <th>1</th>\n",
       "      <td>1003 Winchester Blvd.</td>\n",
       "      <td>None</td>\n",
       "      <td>4</td>\n",
       "      <td>4</td>\n",
       "      <td>None</td>\n",
       "      <td>Rock Springs, WY 82901</td>\n",
       "      <td>0.21 Acres</td>\n",
       "      <td>$452,900</td>\n",
       "    </tr>\n",
       "    <tr>\n",
       "      <th>2</th>\n",
       "      <td>600 Talladega</td>\n",
       "      <td>3,154</td>\n",
       "      <td>5</td>\n",
       "      <td>3</td>\n",
       "      <td>None</td>\n",
       "      <td>Rock Springs, WY 82901</td>\n",
       "      <td>NaN</td>\n",
       "      <td>$396,900</td>\n",
       "    </tr>\n",
       "    <tr>\n",
       "      <th>3</th>\n",
       "      <td>3239 Spearhead Way</td>\n",
       "      <td>3,076</td>\n",
       "      <td>4</td>\n",
       "      <td>3</td>\n",
       "      <td>1</td>\n",
       "      <td>Rock Springs, WY 82901</td>\n",
       "      <td>Under 1/2 Acre,</td>\n",
       "      <td>$389,900</td>\n",
       "    </tr>\n",
       "    <tr>\n",
       "      <th>4</th>\n",
       "      <td>522 Emerald Street</td>\n",
       "      <td>1,172</td>\n",
       "      <td>3</td>\n",
       "      <td>3</td>\n",
       "      <td>None</td>\n",
       "      <td>Rock Springs, WY 82901</td>\n",
       "      <td>Under 1/2 Acre,</td>\n",
       "      <td>$254,000</td>\n",
       "    </tr>\n",
       "  </tbody>\n",
       "</table>\n",
       "</div>"
      ],
      "text/plain": [
       "                 Address   Area  Beds Full Baths Half Baths  \\\n",
       "0              0 Gateway   None  None       None       None   \n",
       "1  1003 Winchester Blvd.   None     4          4       None   \n",
       "2          600 Talladega  3,154     5          3       None   \n",
       "3     3239 Spearhead Way  3,076     4          3          1   \n",
       "4     522 Emerald Street  1,172     3          3       None   \n",
       "\n",
       "                 Locality          Lot Size     Price  \n",
       "0  Rock Springs, WY 82901               NaN  $725,000  \n",
       "1  Rock Springs, WY 82901        0.21 Acres  $452,900  \n",
       "2  Rock Springs, WY 82901               NaN  $396,900  \n",
       "3  Rock Springs, WY 82901  Under 1/2 Acre,   $389,900  \n",
       "4  Rock Springs, WY 82901  Under 1/2 Acre,   $254,000  "
      ]
     },
     "execution_count": 4,
     "metadata": {},
     "output_type": "execute_result"
    }
   ],
   "source": [
    "dataframe.head()"
   ]
  },
  {
   "cell_type": "code",
   "execution_count": null,
   "metadata": {},
   "outputs": [],
   "source": []
  }
 ],
 "metadata": {
  "kernelspec": {
   "display_name": "Python 3",
   "language": "python",
   "name": "python3"
  },
  "language_info": {
   "codemirror_mode": {
    "name": "ipython",
    "version": 3
   },
   "file_extension": ".py",
   "mimetype": "text/x-python",
   "name": "python",
   "nbconvert_exporter": "python",
   "pygments_lexer": "ipython3",
   "version": "3.7.1"
  }
 },
 "nbformat": 4,
 "nbformat_minor": 2
}
